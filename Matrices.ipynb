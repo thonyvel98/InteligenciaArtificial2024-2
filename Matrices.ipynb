{
  "nbformat": 4,
  "nbformat_minor": 0,
  "metadata": {
    "colab": {
      "provenance": [],
      "authorship_tag": "ABX9TyPqaowRzd/K72F2tcTS31MI",
      "include_colab_link": true
    },
    "kernelspec": {
      "name": "python3",
      "display_name": "Python 3"
    },
    "language_info": {
      "name": "python"
    }
  },
  "cells": [
    {
      "cell_type": "markdown",
      "metadata": {
        "id": "view-in-github",
        "colab_type": "text"
      },
      "source": [
        "<a href=\"https://colab.research.google.com/github/thonyvel98/InteligenciaArtificial2024-2/blob/main/Matrices.ipynb\" target=\"_parent\"><img src=\"https://colab.research.google.com/assets/colab-badge.svg\" alt=\"Open In Colab\"/></a>"
      ]
    },
    {
      "cell_type": "code",
      "execution_count": 2,
      "metadata": {
        "colab": {
          "base_uri": "https://localhost:8080/"
        },
        "id": "-Zu6Qew7nHQ5",
        "outputId": "0a5c01ed-703b-4b9f-a959-f304f9069f55"
      },
      "outputs": [
        {
          "output_type": "stream",
          "name": "stdout",
          "text": [
            "(3, 4)\n"
          ]
        }
      ],
      "source": [
        "import numpy as np\n",
        "matrixA = np.array([[1,2,3,4],[5,6,7,8],[9,10,11,12]])\n",
        "print(matrixA.shape)"
      ]
    },
    {
      "cell_type": "code",
      "source": [
        "matrixA"
      ],
      "metadata": {
        "colab": {
          "base_uri": "https://localhost:8080/"
        },
        "id": "lilW7u8jnmEE",
        "outputId": "75292004-2b4a-470e-adea-3d747bf77214"
      },
      "execution_count": 4,
      "outputs": [
        {
          "output_type": "execute_result",
          "data": {
            "text/plain": [
              "array([[ 1,  2,  3,  4],\n",
              "       [ 5,  6,  7,  8],\n",
              "       [ 9, 10, 11, 12]])"
            ]
          },
          "metadata": {},
          "execution_count": 4
        }
      ]
    },
    {
      "cell_type": "code",
      "source": [
        "print(matrixA[1:,1:3])"
      ],
      "metadata": {
        "colab": {
          "base_uri": "https://localhost:8080/"
        },
        "id": "3mdrouqznpxO",
        "outputId": "6295691a-a284-4caf-d2d4-02b90539045f"
      },
      "execution_count": 6,
      "outputs": [
        {
          "output_type": "stream",
          "name": "stdout",
          "text": [
            "[[ 6  7]\n",
            " [10 11]]\n"
          ]
        }
      ]
    },
    {
      "cell_type": "code",
      "source": [],
      "metadata": {
        "id": "ywlStAjynzMB"
      },
      "execution_count": null,
      "outputs": []
    },
    {
      "source": [
        "matrixB = np.random.randint(0, 10, size=(4, 3))\n",
        "print(matrixB)"
      ],
      "cell_type": "code",
      "metadata": {
        "colab": {
          "base_uri": "https://localhost:8080/"
        },
        "id": "98bDaeMMn_og",
        "outputId": "b344ffb2-0c8c-469e-ec2c-05eb62d154d9"
      },
      "execution_count": 59,
      "outputs": [
        {
          "output_type": "stream",
          "name": "stdout",
          "text": [
            "[[1 0 6]\n",
            " [9 2 8]\n",
            " [5 5 6]\n",
            " [3 9 2]]\n"
          ]
        }
      ]
    },
    {
      "cell_type": "code",
      "source": [
        "print(matrixB)\n",
        "col_indices = np.array([0, 2, 1])\n",
        "row_indices = np.array([1, 2])\n",
        "\n",
        "for row, col in zip(row_indices, col_indices):\n",
        "    #print(row, \"-\" , col)\n",
        "    print(matrixB[row, col])"
      ],
      "metadata": {
        "colab": {
          "base_uri": "https://localhost:8080/"
        },
        "id": "s3JrOrhyoPvm",
        "outputId": "d56e9492-3710-4efc-ef16-8664c0c8ba41"
      },
      "execution_count": 53,
      "outputs": [
        {
          "output_type": "stream",
          "name": "stdout",
          "text": [
            "[[2 2 2]\n",
            " [8 2 0]\n",
            " [0 1 8]\n",
            " [1 4 8]]\n",
            "8\n",
            "8\n"
          ]
        }
      ]
    },
    {
      "cell_type": "code",
      "source": [
        "filtro=matrixB>7\n",
        "print(filtro)"
      ],
      "metadata": {
        "colab": {
          "base_uri": "https://localhost:8080/"
        },
        "id": "Ok6jno4dp6Ly",
        "outputId": "6758dac7-035c-43c8-e919-bf1f85cf7d7e"
      },
      "execution_count": 54,
      "outputs": [
        {
          "output_type": "stream",
          "name": "stdout",
          "text": [
            "[[False False False]\n",
            " [ True False False]\n",
            " [False False  True]\n",
            " [False False  True]]\n"
          ]
        }
      ]
    },
    {
      "cell_type": "code",
      "source": [
        "print(matrixB[filtro])"
      ],
      "metadata": {
        "colab": {
          "base_uri": "https://localhost:8080/"
        },
        "id": "Hkt_pcxFqBIK",
        "outputId": "f9275c06-e7aa-40d9-ac6f-aa93cc61828f"
      },
      "execution_count": 55,
      "outputs": [
        {
          "output_type": "stream",
          "name": "stdout",
          "text": [
            "[8 8 8]\n"
          ]
        }
      ]
    },
    {
      "cell_type": "code",
      "source": [
        "print(matrixB[matrixB>7])"
      ],
      "metadata": {
        "colab": {
          "base_uri": "https://localhost:8080/"
        },
        "id": "bl1Nstx5qO0R",
        "outputId": "ff871f8b-76df-4bf6-d39b-3449e95bc108"
      },
      "execution_count": 58,
      "outputs": [
        {
          "output_type": "stream",
          "name": "stdout",
          "text": [
            "[102 102 102 108 102 100 100 108 104 108]\n"
          ]
        }
      ]
    },
    {
      "cell_type": "code",
      "source": [
        "print(matrixB)\n",
        "\n",
        "matrixB[matrixB % 2 == 0] += 100\n",
        "matrixB"
      ],
      "metadata": {
        "colab": {
          "base_uri": "https://localhost:8080/"
        },
        "id": "mJSs8MOfqW_M",
        "outputId": "50996ebd-f63c-4fe5-acb4-78c60e05fa65"
      },
      "execution_count": 57,
      "outputs": [
        {
          "output_type": "stream",
          "name": "stdout",
          "text": [
            "[[2 2 2]\n",
            " [8 2 0]\n",
            " [0 1 8]\n",
            " [1 4 8]]\n"
          ]
        },
        {
          "output_type": "execute_result",
          "data": {
            "text/plain": [
              "array([[102, 102, 102],\n",
              "       [108, 102, 100],\n",
              "       [100,   1, 108],\n",
              "       [  1, 104, 108]])"
            ]
          },
          "metadata": {},
          "execution_count": 57
        }
      ]
    },
    {
      "cell_type": "code",
      "source": [
        "print(matrixB)"
      ],
      "metadata": {
        "colab": {
          "base_uri": "https://localhost:8080/"
        },
        "id": "UWrD8uRKrmjY",
        "outputId": "73b77912-7b81-4c24-c00a-8f9794c473b7"
      },
      "execution_count": 50,
      "outputs": [
        {
          "output_type": "stream",
          "name": "stdout",
          "text": [
            "[[102 104   5]\n",
            " [100 100   3]\n",
            " [100   7 104]\n",
            " [  1   9 106]]\n"
          ]
        }
      ]
    },
    {
      "cell_type": "code",
      "source": [
        "matrixC = np.random.randint(0, 10, size=(4, 3))\n",
        "print(matrixC)\n",
        "matrixC[(matrixC > 3) & (matrixC < 9)] += 100\n",
        "matrixC"
      ],
      "metadata": {
        "colab": {
          "base_uri": "https://localhost:8080/"
        },
        "id": "a2BNF5g_sIaJ",
        "outputId": "3bb81ed1-4795-4791-fcf4-3737c2a70007"
      },
      "execution_count": 63,
      "outputs": [
        {
          "output_type": "stream",
          "name": "stdout",
          "text": [
            "[[5 3 7]\n",
            " [3 4 9]\n",
            " [0 6 6]\n",
            " [4 5 6]]\n"
          ]
        },
        {
          "output_type": "execute_result",
          "data": {
            "text/plain": [
              "array([[105,   3, 107],\n",
              "       [  3, 104,   9],\n",
              "       [  0, 106, 106],\n",
              "       [104, 105, 106]])"
            ]
          },
          "metadata": {},
          "execution_count": 63
        }
      ]
    },
    {
      "cell_type": "code",
      "source": [
        "filter = (matrixC > 3) & (matrixC < 9)\n",
        "matrixC[filter] += 100\n",
        "print(matrixC)"
      ],
      "metadata": {
        "colab": {
          "base_uri": "https://localhost:8080/"
        },
        "id": "LAhz8y9Ls6sI",
        "outputId": "327cbaa3-b7bc-477c-a781-289fc9a1da99"
      },
      "execution_count": 66,
      "outputs": [
        {
          "output_type": "stream",
          "name": "stdout",
          "text": [
            "[[105   3 107]\n",
            " [  3 104   9]\n",
            " [  0 106 106]\n",
            " [104 105 106]]\n"
          ]
        }
      ]
    },
    {
      "cell_type": "code",
      "source": [
        "matrixA1 = np.random.randint(0, 10, size=(2, 2))\n",
        "matrixA2 = np.random.randint(0, 10, size=(2, 2))\n",
        "print(\"matrixA1\")\n",
        "print(matrixA1)\n",
        "print(\"matrixA2\")\n",
        "print(matrixA2)"
      ],
      "metadata": {
        "colab": {
          "base_uri": "https://localhost:8080/"
        },
        "id": "XAmDRXN1u-9s",
        "outputId": "5572c49a-7e4a-478f-8a3b-00faaf47d2f8"
      },
      "execution_count": 68,
      "outputs": [
        {
          "output_type": "stream",
          "name": "stdout",
          "text": [
            "matrixA1\n",
            "[[6 0]\n",
            " [8 3]]\n",
            "matrixA2\n",
            "[[1 4]\n",
            " [4 5]]\n"
          ]
        }
      ]
    },
    {
      "cell_type": "code",
      "source": [
        "print(\"Suma\")\n",
        "print(matrixA1 + matrixA2)\n",
        "print(\"Resta\")\n",
        "print(matrixA1 - matrixA2)\n",
        "print(\"Multiplicacion\")\n",
        "print(matrixA1 * matrixA2)\n",
        "print(\"Division\")\n",
        "print(matrixA1 / matrixA2)\n"
      ],
      "metadata": {
        "colab": {
          "base_uri": "https://localhost:8080/"
        },
        "id": "hLY-2gwkvTW5",
        "outputId": "1954aaec-3abb-4ecc-c8de-ff4d24c2c071"
      },
      "execution_count": 71,
      "outputs": [
        {
          "output_type": "stream",
          "name": "stdout",
          "text": [
            "Suma\n",
            "[[ 7  4]\n",
            " [12  8]]\n",
            "Resta\n",
            "[[ 5 -4]\n",
            " [ 4 -2]]\n",
            "Multiplicacion\n",
            "[[ 6  0]\n",
            " [32 15]]\n",
            "Division\n",
            "[[6.  0. ]\n",
            " [2.  0.6]]\n"
          ]
        }
      ]
    },
    {
      "cell_type": "code",
      "source": [
        "print(matrixA1)\n",
        "print(\"matrixA1\")\n",
        "print(np.sqrt(matrixA1))"
      ],
      "metadata": {
        "colab": {
          "base_uri": "https://localhost:8080/"
        },
        "id": "hY95Aql4vvby",
        "outputId": "02c1ca94-bd20-46b0-e049-55c86585da90"
      },
      "execution_count": 74,
      "outputs": [
        {
          "output_type": "stream",
          "name": "stdout",
          "text": [
            "[[6 0]\n",
            " [8 3]]\n",
            "matrixA1\n",
            "[[2.44948974 0.        ]\n",
            " [2.82842712 1.73205081]]\n"
          ]
        }
      ]
    },
    {
      "cell_type": "code",
      "source": [
        "matrixA1=np.random.randint(0,10,size=(2,5))\n",
        "print(matrixA1)"
      ],
      "metadata": {
        "colab": {
          "base_uri": "https://localhost:8080/"
        },
        "id": "gJGeyBGIwBLz",
        "outputId": "a2bb979e-ca81-45fb-d5d8-07d4894ffa1c"
      },
      "execution_count": 75,
      "outputs": [
        {
          "output_type": "stream",
          "name": "stdout",
          "text": [
            "[[0 9 7 6 9]\n",
            " [4 6 2 8 4]]\n"
          ]
        }
      ]
    },
    {
      "cell_type": "code",
      "source": [
        "print(np.mean(matrixA1))"
      ],
      "metadata": {
        "colab": {
          "base_uri": "https://localhost:8080/"
        },
        "id": "C-XeiDhAwJn8",
        "outputId": "f8872542-8380-431f-875e-7dfdf8aa90e4"
      },
      "execution_count": 77,
      "outputs": [
        {
          "output_type": "stream",
          "name": "stdout",
          "text": [
            "5.5\n"
          ]
        }
      ]
    },
    {
      "cell_type": "code",
      "source": [
        "print(matrixA1.mean(axis=1))"
      ],
      "metadata": {
        "colab": {
          "base_uri": "https://localhost:8080/"
        },
        "id": "ymuqC0obwS1r",
        "outputId": "0763dfb2-dba4-46da-ea7b-3335841a988b"
      },
      "execution_count": 79,
      "outputs": [
        {
          "output_type": "stream",
          "name": "stdout",
          "text": [
            "[6.2 4.8]\n"
          ]
        }
      ]
    },
    {
      "cell_type": "code",
      "source": [
        "print(matrixA1.mean(axis=0))"
      ],
      "metadata": {
        "colab": {
          "base_uri": "https://localhost:8080/"
        },
        "id": "7JO8ct0-whN5",
        "outputId": "45e82196-2617-4af5-9b51-e7dddf27cf85"
      },
      "execution_count": 81,
      "outputs": [
        {
          "output_type": "stream",
          "name": "stdout",
          "text": [
            "[2.  7.5 4.5 7.  6.5]\n"
          ]
        }
      ]
    },
    {
      "cell_type": "code",
      "source": [
        "print(np.median(matrixA1))"
      ],
      "metadata": {
        "colab": {
          "base_uri": "https://localhost:8080/"
        },
        "id": "yH0YTe9pwzLc",
        "outputId": "7276d581-1975-462b-8e67-25236cbcd3b4"
      },
      "execution_count": 83,
      "outputs": [
        {
          "output_type": "stream",
          "name": "stdout",
          "text": [
            "6.0\n"
          ]
        }
      ]
    },
    {
      "cell_type": "code",
      "source": [
        "print(matrixA1.sum())"
      ],
      "metadata": {
        "colab": {
          "base_uri": "https://localhost:8080/"
        },
        "id": "howwzge3xCg4",
        "outputId": "03a8966f-6a7d-4279-dcd6-e29e08d960e2"
      },
      "execution_count": 85,
      "outputs": [
        {
          "output_type": "stream",
          "name": "stdout",
          "text": [
            "55\n"
          ]
        }
      ]
    },
    {
      "cell_type": "code",
      "source": [
        "print(matrixA1.max())"
      ],
      "metadata": {
        "colab": {
          "base_uri": "https://localhost:8080/"
        },
        "id": "FU4oGOqrxp-q",
        "outputId": "923ccd70-5947-4921-c213-50963a90fc16"
      },
      "execution_count": 86,
      "outputs": [
        {
          "output_type": "stream",
          "name": "stdout",
          "text": [
            "9\n"
          ]
        }
      ]
    },
    {
      "cell_type": "code",
      "source": [
        "print(matrixA1.std())"
      ],
      "metadata": {
        "colab": {
          "base_uri": "https://localhost:8080/"
        },
        "id": "NIYjEq_1xuyw",
        "outputId": "f0445fb0-9f1c-4a14-b422-cd985386a42b"
      },
      "execution_count": 88,
      "outputs": [
        {
          "output_type": "stream",
          "name": "stdout",
          "text": [
            "2.8372521918222215\n"
          ]
        }
      ]
    },
    {
      "cell_type": "code",
      "source": [
        "print(matrixA1.var())"
      ],
      "metadata": {
        "colab": {
          "base_uri": "https://localhost:8080/"
        },
        "id": "AMCwFRXXxyMZ",
        "outputId": "4d9adff5-354f-461a-a4a5-9db04558a5ef"
      },
      "execution_count": 89,
      "outputs": [
        {
          "output_type": "stream",
          "name": "stdout",
          "text": [
            "8.05\n"
          ]
        }
      ]
    },
    {
      "cell_type": "code",
      "source": [
        "start=np.zeros((4,3))\n",
        "print(start)"
      ],
      "metadata": {
        "colab": {
          "base_uri": "https://localhost:8080/"
        },
        "id": "5rCvl2xPx0Mr",
        "outputId": "fe8f77dc-3bd7-40b3-b643-cd0795209449"
      },
      "execution_count": 90,
      "outputs": [
        {
          "output_type": "stream",
          "name": "stdout",
          "text": [
            "[[0. 0. 0.]\n",
            " [0. 0. 0.]\n",
            " [0. 0. 0.]\n",
            " [0. 0. 0.]]\n"
          ]
        }
      ]
    },
    {
      "cell_type": "code",
      "source": [
        "add_rows=np.array([[1,2,3]])\n",
        "print(add_rows.shape)"
      ],
      "metadata": {
        "colab": {
          "base_uri": "https://localhost:8080/"
        },
        "id": "JAZMT-EuyHe0",
        "outputId": "58debb07-7a6d-4948-e66a-3af3a29b1b1c"
      },
      "execution_count": 91,
      "outputs": [
        {
          "output_type": "stream",
          "name": "stdout",
          "text": [
            "(1, 3)\n"
          ]
        }
      ]
    },
    {
      "cell_type": "code",
      "source": [
        "y = start + add_rows\n",
        "print(y)"
      ],
      "metadata": {
        "colab": {
          "base_uri": "https://localhost:8080/"
        },
        "id": "7QgtyvNHyT-L",
        "outputId": "32db6856-987d-4e46-df12-bce5d97c9b99"
      },
      "execution_count": 92,
      "outputs": [
        {
          "output_type": "stream",
          "name": "stdout",
          "text": [
            "[[1. 2. 3.]\n",
            " [1. 2. 3.]\n",
            " [1. 2. 3.]\n",
            " [1. 2. 3.]]\n"
          ]
        }
      ]
    },
    {
      "cell_type": "code",
      "source": [
        "print(start)"
      ],
      "metadata": {
        "colab": {
          "base_uri": "https://localhost:8080/"
        },
        "id": "icjttOMwyc1j",
        "outputId": "010f13fe-e9b5-4711-bb88-9c8c437ed88f"
      },
      "execution_count": 94,
      "outputs": [
        {
          "output_type": "stream",
          "name": "stdout",
          "text": [
            "[[0. 0. 0.]\n",
            " [0. 0. 0.]\n",
            " [0. 0. 0.]\n",
            " [0. 0. 0.]]\n"
          ]
        }
      ]
    },
    {
      "cell_type": "code",
      "source": [
        "col_rows=np.array([[1,2,3,4]])"
      ],
      "metadata": {
        "id": "GsrprO5tyuHJ"
      },
      "execution_count": 95,
      "outputs": []
    },
    {
      "cell_type": "code",
      "source": [
        "print(col_rows)"
      ],
      "metadata": {
        "colab": {
          "base_uri": "https://localhost:8080/"
        },
        "id": "MY_XR1cvy0om",
        "outputId": "b3e77987-42b1-4fb0-a49e-e664428682e1"
      },
      "execution_count": 103,
      "outputs": [
        {
          "output_type": "stream",
          "name": "stdout",
          "text": [
            "[[1 2 3 4]]\n"
          ]
        }
      ]
    },
    {
      "cell_type": "code",
      "source": [
        "print(start)\n",
        "tmp=col_rows.T\n",
        "y2=start+tmp\n",
        "print(y2)"
      ],
      "metadata": {
        "colab": {
          "base_uri": "https://localhost:8080/"
        },
        "id": "5G5ZtNrb0vMY",
        "outputId": "4edb0d89-4b5d-4655-80d7-39097156c9e6"
      },
      "execution_count": 106,
      "outputs": [
        {
          "output_type": "stream",
          "name": "stdout",
          "text": [
            "[[0. 0. 0.]\n",
            " [0. 0. 0.]\n",
            " [0. 0. 0.]\n",
            " [0. 0. 0.]]\n",
            "[[1. 1. 1.]\n",
            " [2. 2. 2.]\n",
            " [3. 3. 3.]\n",
            " [4. 4. 4.]]\n"
          ]
        }
      ]
    },
    {
      "cell_type": "code",
      "source": [
        "tmp1=np.array([[1,1], [2,2]])\n",
        "tmp2=np.array([[3,3], [4,4]])\n",
        "print(tmp1)\n",
        "print(tmp2)"
      ],
      "metadata": {
        "colab": {
          "base_uri": "https://localhost:8080/"
        },
        "id": "Pqy7CiXa1VOL",
        "outputId": "5e13af4f-8693-44fd-f160-b06bab0e1722"
      },
      "execution_count": 108,
      "outputs": [
        {
          "output_type": "stream",
          "name": "stdout",
          "text": [
            "[[1 1]\n",
            " [2 2]]\n",
            "[[3 3]\n",
            " [4 4]]\n"
          ]
        }
      ]
    },
    {
      "cell_type": "code",
      "source": [
        "print(np.dot(tmp1, tmp2))"
      ],
      "metadata": {
        "colab": {
          "base_uri": "https://localhost:8080/"
        },
        "id": "wbki_LdU1052",
        "outputId": "46e4ce6d-d878-4dea-88af-6209a407ba26"
      },
      "execution_count": 110,
      "outputs": [
        {
          "output_type": "stream",
          "name": "stdout",
          "text": [
            "[[ 7  7]\n",
            " [14 14]]\n"
          ]
        }
      ]
    },
    {
      "cell_type": "code",
      "source": [
        "print(tmp1.dot(tmp2))"
      ],
      "metadata": {
        "colab": {
          "base_uri": "https://localhost:8080/"
        },
        "id": "7xOQApuw1_SS",
        "outputId": "c0ee3e3d-f58f-4c41-ed42-41d0c25c426d"
      },
      "execution_count": 112,
      "outputs": [
        {
          "output_type": "stream",
          "name": "stdout",
          "text": [
            "[[ 7  7]\n",
            " [14 14]]\n"
          ]
        }
      ]
    },
    {
      "cell_type": "code",
      "source": [
        "y1=np.random.randint(low=2,high=50,size=(2,2))\n",
        "y2=np.random.randint(low=2,high=50,size=(2,2))\n",
        "print(y1)\n",
        "print(y2)"
      ],
      "metadata": {
        "colab": {
          "base_uri": "https://localhost:8080/"
        },
        "id": "JsWb-gp82Qh2",
        "outputId": "fdae638b-304c-4030-a8cb-16863c7ce2ad"
      },
      "execution_count": 114,
      "outputs": [
        {
          "output_type": "stream",
          "name": "stdout",
          "text": [
            "[[45 19]\n",
            " [12 10]]\n",
            "[[11 37]\n",
            " [12 36]]\n"
          ]
        }
      ]
    },
    {
      "cell_type": "code",
      "source": [
        "np.vstack((y1,y2))"
      ],
      "metadata": {
        "colab": {
          "base_uri": "https://localhost:8080/"
        },
        "id": "NG8S_gnd2ePR",
        "outputId": "fb2af9a2-ca03-49e6-b110-aa617f37a64d"
      },
      "execution_count": 116,
      "outputs": [
        {
          "output_type": "execute_result",
          "data": {
            "text/plain": [
              "array([[45, 19],\n",
              "       [12, 10],\n",
              "       [11, 37],\n",
              "       [12, 36]])"
            ]
          },
          "metadata": {},
          "execution_count": 116
        }
      ]
    },
    {
      "cell_type": "code",
      "source": [
        "np.hstack((y1,y2))"
      ],
      "metadata": {
        "colab": {
          "base_uri": "https://localhost:8080/"
        },
        "id": "exqhoZee2tzI",
        "outputId": "005fdf05-7aa1-4153-b8a2-ab2726c1a87d"
      },
      "execution_count": 117,
      "outputs": [
        {
          "output_type": "execute_result",
          "data": {
            "text/plain": [
              "array([[45, 19, 11, 37],\n",
              "       [12, 10, 12, 36]])"
            ]
          },
          "metadata": {},
          "execution_count": 117
        }
      ]
    }
  ]
}