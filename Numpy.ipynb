{
  "nbformat": 4,
  "nbformat_minor": 0,
  "metadata": {
    "colab": {
      "provenance": [],
      "authorship_tag": "ABX9TyNKjEsX4UD8lWiZl/RSUfd8",
      "include_colab_link": true
    },
    "kernelspec": {
      "name": "python3",
      "display_name": "Python 3"
    },
    "language_info": {
      "name": "python"
    }
  },
  "cells": [
    {
      "cell_type": "markdown",
      "metadata": {
        "id": "view-in-github",
        "colab_type": "text"
      },
      "source": [
        "<a href=\"https://colab.research.google.com/github/thonyvel98/InteligenciaArtificial2024-2/blob/main/Numpy.ipynb\" target=\"_parent\"><img src=\"https://colab.research.google.com/assets/colab-badge.svg\" alt=\"Open In Colab\"/></a>"
      ]
    },
    {
      "cell_type": "markdown",
      "source": [
        "**Numpy Library**"
      ],
      "metadata": {
        "id": "HH8AGan1hyfk"
      }
    },
    {
      "cell_type": "code",
      "execution_count": 3,
      "metadata": {
        "id": "9GzPW8mXhua_"
      },
      "outputs": [],
      "source": [
        "import numpy as np"
      ]
    },
    {
      "cell_type": "code",
      "source": [
        "print ( np.__version__ )"
      ],
      "metadata": {
        "colab": {
          "base_uri": "https://localhost:8080/"
        },
        "id": "fMwmsDMKiCot",
        "outputId": "4a6d94e0-0105-4802-a7a4-d4e4da100890"
      },
      "execution_count": 5,
      "outputs": [
        {
          "output_type": "stream",
          "name": "stdout",
          "text": [
            "1.26.4\n"
          ]
        }
      ]
    },
    {
      "cell_type": "code",
      "source": [
        "myArray=np.array([1,2,3,4,5])\n",
        "print(myArray)"
      ],
      "metadata": {
        "colab": {
          "base_uri": "https://localhost:8080/"
        },
        "id": "HpWWlgkwiHoA",
        "outputId": "40b5591f-bcc4-447b-f632-759117b10e48"
      },
      "execution_count": 7,
      "outputs": [
        {
          "output_type": "stream",
          "name": "stdout",
          "text": [
            "[1 2 3 4 5]\n"
          ]
        }
      ]
    },
    {
      "cell_type": "code",
      "source": [
        "print(type(myArray))"
      ],
      "metadata": {
        "colab": {
          "base_uri": "https://localhost:8080/"
        },
        "id": "h8mumPqqiVlC",
        "outputId": "b19e93a9-dfaf-41ba-9a8d-3f3fb191e3bb"
      },
      "execution_count": 9,
      "outputs": [
        {
          "output_type": "stream",
          "name": "stdout",
          "text": [
            "<class 'numpy.ndarray'>\n"
          ]
        }
      ]
    },
    {
      "cell_type": "code",
      "source": [
        "print(myArray.shape)\n",
        "print(myArray[2])\n",
        "myArray[2]=29\n",
        "print(myArray[2])\n",
        "print(myArray)"
      ],
      "metadata": {
        "colab": {
          "base_uri": "https://localhost:8080/"
        },
        "id": "tEqSzpzRic21",
        "outputId": "b6d91a31-dd9f-46e7-8a0a-cdec8a58d467"
      },
      "execution_count": 12,
      "outputs": [
        {
          "output_type": "stream",
          "name": "stdout",
          "text": [
            "(5,)\n",
            "29\n",
            "29\n",
            "[ 1  2 29  4  5]\n"
          ]
        }
      ]
    },
    {
      "cell_type": "code",
      "source": [
        "myArray1=np.array([[1,2,3],[4,5,6]])\n",
        "print(myArray1)\n",
        "print(myArray1.shape)"
      ],
      "metadata": {
        "colab": {
          "base_uri": "https://localhost:8080/"
        },
        "id": "L8tUTkiLiwgE",
        "outputId": "394c0a27-801d-4e50-a91f-b5d9543aefa1"
      },
      "execution_count": 14,
      "outputs": [
        {
          "output_type": "stream",
          "name": "stdout",
          "text": [
            "[[1 2 3]\n",
            " [4 5 6]]\n",
            "(2, 3)\n"
          ]
        }
      ]
    },
    {
      "cell_type": "code",
      "source": [
        "myArray2=np.zeros((5,5))\n",
        "print(myArray2)\n",
        "print(myArray2.shape)"
      ],
      "metadata": {
        "colab": {
          "base_uri": "https://localhost:8080/"
        },
        "id": "ZJKu0CnDjCE-",
        "outputId": "9bddd4f2-3e2a-446a-eec7-eed7a1598bcf"
      },
      "execution_count": 17,
      "outputs": [
        {
          "output_type": "stream",
          "name": "stdout",
          "text": [
            "[[0. 0. 0. 0. 0.]\n",
            " [0. 0. 0. 0. 0.]\n",
            " [0. 0. 0. 0. 0.]\n",
            " [0. 0. 0. 0. 0.]\n",
            " [0. 0. 0. 0. 0.]]\n",
            "(5, 5)\n"
          ]
        }
      ]
    },
    {
      "cell_type": "code",
      "source": [
        "myArray3=np.full((3,6),7)\n",
        "print(myArray3)\n",
        "myArray4=np.eye(5)\n",
        "print(myArray4)\n",
        "myArray5=np.ones((5,5))\n",
        "print(myArray5)\n",
        "print(myArray3.shape)"
      ],
      "metadata": {
        "colab": {
          "base_uri": "https://localhost:8080/"
        },
        "id": "KPS2VhjRjUWs",
        "outputId": "074f10b1-42e1-4165-b6d5-64ac5e82ea3b"
      },
      "execution_count": 22,
      "outputs": [
        {
          "output_type": "stream",
          "name": "stdout",
          "text": [
            "[[7 7 7 7 7 7]\n",
            " [7 7 7 7 7 7]\n",
            " [7 7 7 7 7 7]]\n",
            "[[1. 0. 0. 0. 0.]\n",
            " [0. 1. 0. 0. 0.]\n",
            " [0. 0. 1. 0. 0.]\n",
            " [0. 0. 0. 1. 0.]\n",
            " [0. 0. 0. 0. 1.]]\n",
            "[[1. 1. 1. 1. 1.]\n",
            " [1. 1. 1. 1. 1.]\n",
            " [1. 1. 1. 1. 1.]\n",
            " [1. 1. 1. 1. 1.]\n",
            " [1. 1. 1. 1. 1.]]\n",
            "(3, 6)\n"
          ]
        }
      ]
    },
    {
      "cell_type": "code",
      "source": [
        "myArray6=np.random.random((5,5))\n",
        "print(myArray6)"
      ],
      "metadata": {
        "colab": {
          "base_uri": "https://localhost:8080/"
        },
        "id": "bqt2ih6aj6H4",
        "outputId": "4c0389a1-0747-4d1b-b11e-bab8c76c9b51"
      },
      "execution_count": 26,
      "outputs": [
        {
          "output_type": "stream",
          "name": "stdout",
          "text": [
            "[[0.91003894 0.74935487 0.26409957 0.88895042 0.97911427]\n",
            " [0.8927795  0.38751029 0.6257352  0.48130872 0.06032334]\n",
            " [0.42275371 0.47905218 0.83317842 0.04342948 0.25361036]\n",
            " [0.85307233 0.15992572 0.1412706  0.06021879 0.82365058]\n",
            " [0.56293695 0.74709116 0.96999458 0.04800417 0.10258756]]\n"
          ]
        }
      ]
    },
    {
      "cell_type": "code",
      "source": [
        "myArray7=np.random.randint(100,size=(5,5))\n",
        "print(myArray7)"
      ],
      "metadata": {
        "colab": {
          "base_uri": "https://localhost:8080/"
        },
        "id": "BTf1slvQkGqm",
        "outputId": "78b8c045-7553-48d9-c585-5c1773ade705"
      },
      "execution_count": 33,
      "outputs": [
        {
          "output_type": "stream",
          "name": "stdout",
          "text": [
            "[[27 63 62 40 10]\n",
            " [18  8 83 38 42]\n",
            " [17 76 11 39 15]\n",
            " [93 56 52 94 88]\n",
            " [91 15 17 58 90]]\n"
          ]
        }
      ]
    },
    {
      "cell_type": "code",
      "source": [
        "newMatrix=myArray7[:2, :2]\n",
        "print(newMatrix)"
      ],
      "metadata": {
        "colab": {
          "base_uri": "https://localhost:8080/"
        },
        "id": "F155wPYgktRx",
        "outputId": "1a28ae68-05c4-4cfc-8587-f97c275674a2"
      },
      "execution_count": 32,
      "outputs": [
        {
          "output_type": "stream",
          "name": "stdout",
          "text": [
            "[[88 35]\n",
            " [68  9]]\n"
          ]
        }
      ]
    },
    {
      "cell_type": "code",
      "source": [
        "myArray7[2,2]=1000000\n",
        "print(myArray7)"
      ],
      "metadata": {
        "colab": {
          "base_uri": "https://localhost:8080/"
        },
        "id": "zF9g2TGxlEwd",
        "outputId": "560a4b88-9310-4627-8c8f-cb01df81348c"
      },
      "execution_count": 37,
      "outputs": [
        {
          "output_type": "stream",
          "name": "stdout",
          "text": [
            "[[     27      63      62      40      10]\n",
            " [     18       8      83      38      42]\n",
            " [     17      76 1000000      39      15]\n",
            " [     93      56      52     100      88]\n",
            " [     91      15      17      58      90]]\n"
          ]
        }
      ]
    },
    {
      "cell_type": "code",
      "source": [
        "print(myArray7[2,:])"
      ],
      "metadata": {
        "colab": {
          "base_uri": "https://localhost:8080/"
        },
        "id": "Aq4E1LZ1l4d5",
        "outputId": "b8103934-0300-41aa-e10e-42bfda304147"
      },
      "execution_count": 39,
      "outputs": [
        {
          "output_type": "stream",
          "name": "stdout",
          "text": [
            "[     17      76 1000000      39      15]\n"
          ]
        }
      ]
    },
    {
      "cell_type": "code",
      "source": [
        "print(myArray7[:,2].shape)"
      ],
      "metadata": {
        "colab": {
          "base_uri": "https://localhost:8080/"
        },
        "id": "HE9JIQoVmICM",
        "outputId": "ece85dae-4141-4dcb-8b35-3c9f23804fee"
      },
      "execution_count": 47,
      "outputs": [
        {
          "output_type": "stream",
          "name": "stdout",
          "text": [
            "(5,)\n"
          ]
        }
      ]
    },
    {
      "cell_type": "code",
      "source": [
        "newMatrix2=myArray7[1:4,1:4]\n",
        "print(newMatrix2)"
      ],
      "metadata": {
        "colab": {
          "base_uri": "https://localhost:8080/"
        },
        "id": "2TiouKtInNzm",
        "outputId": "bf012717-2651-4cd1-c6d8-5d7f322ef861"
      },
      "execution_count": 51,
      "outputs": [
        {
          "output_type": "stream",
          "name": "stdout",
          "text": [
            "[[      8      83      38]\n",
            " [     76 1000000      39]\n",
            " [     56      52     100]]\n"
          ]
        }
      ]
    }
  ]
}